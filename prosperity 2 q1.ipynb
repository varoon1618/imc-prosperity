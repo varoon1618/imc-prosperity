{
 "cells": [
  {
   "cell_type": "code",
   "execution_count": 1,
   "id": "316992d7-0a16-4d33-a41f-d90c9bcb51df",
   "metadata": {},
   "outputs": [],
   "source": [
    "'''\n",
    "\n",
    "we know that the prices will vary from 900 to 1000 \n",
    "\n",
    "probability of each price increases linearly.\n",
    "\n",
    "Let f(x) = mx+c , be a function that outputs the probability of each price ranging from 900 to 1000\n",
    "\n",
    "it is given that f(900) = 0 and f(900)+f(901)+f(902) + .....+f(1000) = 1\n",
    "\n",
    "=> (900m+c) + (901m+c) + ...... +(1000m+c) = 1 \n",
    "\n",
    "=> 95950m + 101c = 1\n",
    "\n",
    "=> 900m + c = 0 \n",
    "\n",
    "=> 95950m - (101*900)m = 1\n",
    "\n",
    "=> m = 1/(95950-(101*900))\n",
    "\n",
    "=> m = 0.00019801980198019803\n",
    "\n",
    "=> c = -900*0.00019801980198019803\n",
    "\n",
    "=> c = -0.17821782178217824\n",
    "'''"
   ]
  },
  {
   "cell_type": "code",
   "execution_count": 5,
   "id": "0231b5b8-714d-43f7-bff6-33450968e379",
   "metadata": {},
   "outputs": [
    {
     "name": "stdout",
     "output_type": "stream",
     "text": [
      "-0.17821782178217824\n"
     ]
    }
   ],
   "source": [
    "print(-900*0.00019801980198019803)"
   ]
  },
  {
   "cell_type": "code",
   "execution_count": 6,
   "id": "eec5a452-b177-498f-bcad-b81c4592db9d",
   "metadata": {},
   "outputs": [],
   "source": [
    "def calcValue(summ,alpha):\n",
    "    m = 0.00019801980198019803\n",
    "    c = -0.17821782178217824\n",
    "    return(m*summ + alpha*c)"
   ]
  },
  {
   "cell_type": "code",
   "execution_count": 7,
   "id": "818876b5-3944-4927-aed9-db8e3ae22628",
   "metadata": {},
   "outputs": [
    {
     "name": "stdout",
     "output_type": "stream",
     "text": [
      "0.9999999999999964\n"
     ]
    }
   ],
   "source": [
    "s = []\n",
    "for i in range(900,1001):\n",
    "    s.append(i)\n",
    "print(calcValue(sum(s),len(s)))"
   ]
  },
  {
   "cell_type": "code",
   "execution_count": 15,
   "id": "47eb58ff-9f80-4393-8ab8-703ea2d54af0",
   "metadata": {},
   "outputs": [],
   "source": [
    "def calcProbUpto(quote):\n",
    "    s = []\n",
    "    for i in range(900,quote):\n",
    "        s.append(i)\n",
    "    return(calcValue(sum(s),len(s)))"
   ]
  },
  {
   "cell_type": "code",
   "execution_count": 16,
   "id": "6d5a670c-6936-4d8b-88ca-a90ad92b23f9",
   "metadata": {},
   "outputs": [],
   "source": [
    "def calcProfit(quote):\n",
    "    return((1000-quote)*calcProbUpto(quote))"
   ]
  },
  {
   "cell_type": "code",
   "execution_count": 18,
   "id": "0d2a2c57-6a01-4713-a83f-7f640dac6554",
   "metadata": {},
   "outputs": [],
   "source": [
    "quote_profits = {}\n",
    "for i in range(900,1001):\n",
    "    quote_profits[i] = calcProfit(i)"
   ]
  },
  {
   "cell_type": "code",
   "execution_count": 19,
   "id": "8d197bc6-30ec-4440-9dc1-41f1ceb853c8",
   "metadata": {},
   "outputs": [
    {
     "name": "stdout",
     "output_type": "stream",
     "text": [
      "Key with max value: 967\n",
      "Max value: 14.448118811881157\n"
     ]
    }
   ],
   "source": [
    "max_key = max(quote_profits, key=quote_profits.get)\n",
    "\n",
    "print(\"Key with max value:\", max_key)  # Output: 904\n",
    "print(\"Max value:\", quote_profits[max_key])  # Output: 250\n"
   ]
  },
  {
   "cell_type": "code",
   "execution_count": 20,
   "id": "57c170ff-f7da-4f51-8970-a50efc7077c1",
   "metadata": {},
   "outputs": [
    {
     "name": "stdout",
     "output_type": "stream",
     "text": [
      "{900: 0.0, 901: 0.0, 902: 0.019405940594059423, 903: 0.057623762376237675, 904: 0.11405940594059416, 905: 0.18811881188117774, 906: 0.27920792079207946, 907: 0.3867326732673064, 908: 0.5100990099009906, 909: 0.6487128712871293, 910: 0.8019801980197827, 911: 0.9693069306930702, 912: 1.1500990099009911, 913: 1.343762376237625, 914: 1.5497029702969929, 915: 1.767326732673269, 916: 1.9960396039603978, 917: 2.2352475247524404, 918: 2.4843564356435666, 919: 2.742772277227725, 920: 3.009900990098977, 921: 3.285148514851488, 922: 3.567920792079211, 923: 3.8576237623762752, 924: 4.153663366336637, 925: 4.455445544554459, 926: 4.762376237623734, 927: 5.073861386138586, 928: 5.38930693069301, 929: 5.708118811881193, 930: 6.029702970297004, 931: 6.3534653465346285, 932: 6.678811881188125, 933: 7.005148514851432, 934: 7.331881188118789, 935: 7.658415841584136, 936: 7.984158415841591, 937: 8.308514851485157, 938: 8.630891089108891, 939: 8.950693069306912, 940: 9.267326732673222, 941: 9.580198019801937, 942: 9.888712871287112, 943: 10.192277227722755, 944: 10.49029702970298, 945: 10.78217821782184, 946: 11.067326732673301, 947: 11.345148514851472, 948: 11.615049504950505, 949: 11.876435643564367, 950: 12.128712871287117, 951: 12.371287128712817, 952: 12.603564356435612, 953: 12.824950495049475, 954: 13.034851485148465, 955: 13.232673267326724, 956: 13.417821782178152, 957: 13.589702970296965, 958: 13.747722772277221, 959: 13.891287128712902, 960: 14.019801980197997, 961: 14.13267326732671, 962: 14.229306930693031, 963: 14.309108910891085, 964: 14.371485148514864, 965: 14.415841584158366, 966: 14.44158415841584, 967: 14.448118811881157, 968: 14.4348514851485, 969: 14.401188118811866, 970: 14.34653465346532, 971: 14.27029702970297, 972: 14.171881188118824, 973: 14.050693069306943, 974: 13.906138613861387, 975: 13.737623762376217, 976: 13.544554455445535, 977: 13.326336633663358, 978: 13.082376237623745, 979: 12.812079207920757, 980: 12.51485148514849, 981: 12.190099009900967, 982: 11.837227722772248, 983: 11.455643564356423, 984: 11.04475247524752, 985: 10.6039603960396, 986: 10.132673267326748, 987: 9.630297029702973, 988: 9.096237623762384, 989: 8.529900990098998, 990: 7.930693069306933, 991: 7.2980198019801925, 992: 6.63128712871287, 993: 5.9299009900989965, 994: 5.1932673267326805, 995: 4.420792079207914, 996: 3.611881188118815, 997: 2.7659405940593977, 998: 1.8823762376237596, 999: 0.9605940594059383, 1000: 0.0}\n"
     ]
    }
   ],
   "source": [
    "print(quote_profits)"
   ]
  },
  {
   "cell_type": "code",
   "execution_count": 21,
   "id": "a52cf1df-a7b2-41e0-8981-5ba1f04b3f9b",
   "metadata": {},
   "outputs": [
    {
     "name": "stdout",
     "output_type": "stream",
     "text": [
      "1312.8712871287096\n"
     ]
    }
   ],
   "source": [
    "print(calcProbUpto(952)*5000)"
   ]
  },
  {
   "cell_type": "code",
   "execution_count": null,
   "id": "e2b6bcbd-2952-49e4-bec3-456f3f64af5a",
   "metadata": {},
   "outputs": [],
   "source": [
    "#my answer would be to quote 967 twice idk if its correct lol "
   ]
  }
 ],
 "metadata": {
  "kernelspec": {
   "display_name": "Python 3 (ipykernel)",
   "language": "python",
   "name": "python3"
  },
  "language_info": {
   "codemirror_mode": {
    "name": "ipython",
    "version": 3
   },
   "file_extension": ".py",
   "mimetype": "text/x-python",
   "name": "python",
   "nbconvert_exporter": "python",
   "pygments_lexer": "ipython3",
   "version": "3.11.5"
  }
 },
 "nbformat": 4,
 "nbformat_minor": 5
}
